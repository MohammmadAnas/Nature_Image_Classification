{
 "cells": [
  {
   "cell_type": "code",
   "execution_count": 2,
   "id": "b85432e2-cd77-485a-957e-a16a6aec9170",
   "metadata": {
    "execution": {
     "iopub.execute_input": "2023-09-29T06:59:17.061737Z",
     "iopub.status.busy": "2023-09-29T06:59:17.061356Z",
     "iopub.status.idle": "2023-09-29T06:59:19.551258Z",
     "shell.execute_reply": "2023-09-29T06:59:19.550531Z",
     "shell.execute_reply.started": "2023-09-29T06:59:17.061712Z"
    },
    "tags": []
   },
   "outputs": [
    {
     "name": "stdout",
     "output_type": "stream",
     "text": [
      "Requirement already satisfied: tensorflow in /opt/saturncloud/envs/saturn/lib/python3.9/site-packages (from -r requirements.txt (line 1)) (2.14.0)\n",
      "Requirement already satisfied: absl-py>=1.0.0 in /opt/saturncloud/envs/saturn/lib/python3.9/site-packages (from tensorflow->-r requirements.txt (line 1)) (1.4.0)\n",
      "Requirement already satisfied: astunparse>=1.6.0 in /opt/saturncloud/envs/saturn/lib/python3.9/site-packages (from tensorflow->-r requirements.txt (line 1)) (1.6.3)\n",
      "Requirement already satisfied: flatbuffers>=23.5.26 in /opt/saturncloud/envs/saturn/lib/python3.9/site-packages (from tensorflow->-r requirements.txt (line 1)) (23.5.26)\n",
      "Requirement already satisfied: gast!=0.5.0,!=0.5.1,!=0.5.2,>=0.2.1 in /opt/saturncloud/envs/saturn/lib/python3.9/site-packages (from tensorflow->-r requirements.txt (line 1)) (0.5.4)\n",
      "Requirement already satisfied: google-pasta>=0.1.1 in /opt/saturncloud/envs/saturn/lib/python3.9/site-packages (from tensorflow->-r requirements.txt (line 1)) (0.2.0)\n",
      "Requirement already satisfied: h5py>=2.9.0 in /opt/saturncloud/envs/saturn/lib/python3.9/site-packages (from tensorflow->-r requirements.txt (line 1)) (3.9.0)\n",
      "Requirement already satisfied: libclang>=13.0.0 in /opt/saturncloud/envs/saturn/lib/python3.9/site-packages (from tensorflow->-r requirements.txt (line 1)) (16.0.6)\n",
      "Requirement already satisfied: ml-dtypes==0.2.0 in /opt/saturncloud/envs/saturn/lib/python3.9/site-packages (from tensorflow->-r requirements.txt (line 1)) (0.2.0)\n",
      "Requirement already satisfied: numpy>=1.23.5 in /opt/saturncloud/envs/saturn/lib/python3.9/site-packages (from tensorflow->-r requirements.txt (line 1)) (1.26.0)\n",
      "Requirement already satisfied: opt-einsum>=2.3.2 in /opt/saturncloud/envs/saturn/lib/python3.9/site-packages (from tensorflow->-r requirements.txt (line 1)) (3.3.0)\n",
      "Requirement already satisfied: packaging in /opt/saturncloud/envs/saturn/lib/python3.9/site-packages (from tensorflow->-r requirements.txt (line 1)) (23.1)\n",
      "Requirement already satisfied: protobuf!=4.21.0,!=4.21.1,!=4.21.2,!=4.21.3,!=4.21.4,!=4.21.5,<5.0.0dev,>=3.20.3 in /opt/saturncloud/envs/saturn/lib/python3.9/site-packages (from tensorflow->-r requirements.txt (line 1)) (3.20.3)\n",
      "Requirement already satisfied: setuptools in /opt/saturncloud/envs/saturn/lib/python3.9/site-packages (from tensorflow->-r requirements.txt (line 1)) (59.8.0)\n",
      "Requirement already satisfied: six>=1.12.0 in /opt/saturncloud/envs/saturn/lib/python3.9/site-packages (from tensorflow->-r requirements.txt (line 1)) (1.16.0)\n",
      "Requirement already satisfied: termcolor>=1.1.0 in /opt/saturncloud/envs/saturn/lib/python3.9/site-packages (from tensorflow->-r requirements.txt (line 1)) (2.3.0)\n",
      "Requirement already satisfied: typing-extensions>=3.6.6 in /opt/saturncloud/envs/saturn/lib/python3.9/site-packages (from tensorflow->-r requirements.txt (line 1)) (4.7.1)\n",
      "Requirement already satisfied: wrapt<1.15,>=1.11.0 in /opt/saturncloud/envs/saturn/lib/python3.9/site-packages (from tensorflow->-r requirements.txt (line 1)) (1.14.1)\n",
      "Requirement already satisfied: tensorflow-io-gcs-filesystem>=0.23.1 in /opt/saturncloud/envs/saturn/lib/python3.9/site-packages (from tensorflow->-r requirements.txt (line 1)) (0.34.0)\n",
      "Requirement already satisfied: grpcio<2.0,>=1.24.3 in /opt/saturncloud/envs/saturn/lib/python3.9/site-packages (from tensorflow->-r requirements.txt (line 1)) (1.58.0)\n",
      "Requirement already satisfied: tensorboard<2.15,>=2.14 in /opt/saturncloud/envs/saturn/lib/python3.9/site-packages (from tensorflow->-r requirements.txt (line 1)) (2.14.1)\n",
      "Requirement already satisfied: tensorflow-estimator<2.15,>=2.14.0 in /opt/saturncloud/envs/saturn/lib/python3.9/site-packages (from tensorflow->-r requirements.txt (line 1)) (2.14.0)\n",
      "Requirement already satisfied: keras<2.15,>=2.14.0 in /opt/saturncloud/envs/saturn/lib/python3.9/site-packages (from tensorflow->-r requirements.txt (line 1)) (2.14.0)\n",
      "Requirement already satisfied: wheel<1.0,>=0.23.0 in /opt/saturncloud/envs/saturn/lib/python3.9/site-packages (from astunparse>=1.6.0->tensorflow->-r requirements.txt (line 1)) (0.41.0)\n",
      "Requirement already satisfied: google-auth<3,>=1.6.3 in /opt/saturncloud/envs/saturn/lib/python3.9/site-packages (from tensorboard<2.15,>=2.14->tensorflow->-r requirements.txt (line 1)) (2.22.0)\n",
      "Requirement already satisfied: google-auth-oauthlib<1.1,>=0.5 in /opt/saturncloud/envs/saturn/lib/python3.9/site-packages (from tensorboard<2.15,>=2.14->tensorflow->-r requirements.txt (line 1)) (1.0.0)\n",
      "Requirement already satisfied: markdown>=2.6.8 in /opt/saturncloud/envs/saturn/lib/python3.9/site-packages (from tensorboard<2.15,>=2.14->tensorflow->-r requirements.txt (line 1)) (3.4.4)\n",
      "Requirement already satisfied: requests<3,>=2.21.0 in /opt/saturncloud/envs/saturn/lib/python3.9/site-packages (from tensorboard<2.15,>=2.14->tensorflow->-r requirements.txt (line 1)) (2.31.0)\n",
      "Requirement already satisfied: tensorboard-data-server<0.8.0,>=0.7.0 in /opt/saturncloud/envs/saturn/lib/python3.9/site-packages (from tensorboard<2.15,>=2.14->tensorflow->-r requirements.txt (line 1)) (0.7.1)\n",
      "Requirement already satisfied: werkzeug>=1.0.1 in /opt/saturncloud/envs/saturn/lib/python3.9/site-packages (from tensorboard<2.15,>=2.14->tensorflow->-r requirements.txt (line 1)) (2.3.6)\n",
      "Requirement already satisfied: cachetools<6.0,>=2.0.0 in /opt/saturncloud/envs/saturn/lib/python3.9/site-packages (from google-auth<3,>=1.6.3->tensorboard<2.15,>=2.14->tensorflow->-r requirements.txt (line 1)) (5.3.1)\n",
      "Requirement already satisfied: pyasn1-modules>=0.2.1 in /opt/saturncloud/envs/saturn/lib/python3.9/site-packages (from google-auth<3,>=1.6.3->tensorboard<2.15,>=2.14->tensorflow->-r requirements.txt (line 1)) (0.2.7)\n",
      "Requirement already satisfied: rsa<5,>=3.1.4 in /opt/saturncloud/envs/saturn/lib/python3.9/site-packages (from google-auth<3,>=1.6.3->tensorboard<2.15,>=2.14->tensorflow->-r requirements.txt (line 1)) (4.9)\n",
      "Requirement already satisfied: urllib3<2.0 in /opt/saturncloud/envs/saturn/lib/python3.9/site-packages (from google-auth<3,>=1.6.3->tensorboard<2.15,>=2.14->tensorflow->-r requirements.txt (line 1)) (1.26.15)\n",
      "Requirement already satisfied: requests-oauthlib>=0.7.0 in /opt/saturncloud/envs/saturn/lib/python3.9/site-packages (from google-auth-oauthlib<1.1,>=0.5->tensorboard<2.15,>=2.14->tensorflow->-r requirements.txt (line 1)) (1.3.1)\n",
      "Requirement already satisfied: importlib-metadata>=4.4 in /opt/saturncloud/envs/saturn/lib/python3.9/site-packages (from markdown>=2.6.8->tensorboard<2.15,>=2.14->tensorflow->-r requirements.txt (line 1)) (6.8.0)\n",
      "Requirement already satisfied: charset-normalizer<4,>=2 in /opt/saturncloud/envs/saturn/lib/python3.9/site-packages (from requests<3,>=2.21.0->tensorboard<2.15,>=2.14->tensorflow->-r requirements.txt (line 1)) (2.0.12)\n",
      "Requirement already satisfied: idna<4,>=2.5 in /opt/saturncloud/envs/saturn/lib/python3.9/site-packages (from requests<3,>=2.21.0->tensorboard<2.15,>=2.14->tensorflow->-r requirements.txt (line 1)) (3.4)\n",
      "Requirement already satisfied: certifi>=2017.4.17 in /opt/saturncloud/envs/saturn/lib/python3.9/site-packages (from requests<3,>=2.21.0->tensorboard<2.15,>=2.14->tensorflow->-r requirements.txt (line 1)) (2023.7.22)\n",
      "Requirement already satisfied: MarkupSafe>=2.1.1 in /opt/saturncloud/envs/saturn/lib/python3.9/site-packages (from werkzeug>=1.0.1->tensorboard<2.15,>=2.14->tensorflow->-r requirements.txt (line 1)) (2.1.3)\n",
      "Requirement already satisfied: zipp>=0.5 in /opt/saturncloud/envs/saturn/lib/python3.9/site-packages (from importlib-metadata>=4.4->markdown>=2.6.8->tensorboard<2.15,>=2.14->tensorflow->-r requirements.txt (line 1)) (3.16.2)\n",
      "Requirement already satisfied: pyasn1<0.5.0,>=0.4.6 in /opt/saturncloud/envs/saturn/lib/python3.9/site-packages (from pyasn1-modules>=0.2.1->google-auth<3,>=1.6.3->tensorboard<2.15,>=2.14->tensorflow->-r requirements.txt (line 1)) (0.4.8)\n",
      "Requirement already satisfied: oauthlib>=3.0.0 in /opt/saturncloud/envs/saturn/lib/python3.9/site-packages (from requests-oauthlib>=0.7.0->google-auth-oauthlib<1.1,>=0.5->tensorboard<2.15,>=2.14->tensorflow->-r requirements.txt (line 1)) (3.2.2)\n"
     ]
    }
   ],
   "source": [
    "!pip install -r requirements.txt"
   ]
  },
  {
   "cell_type": "code",
   "execution_count": 2,
   "id": "d8fd3064-b48d-437c-8571-dd3bef42110c",
   "metadata": {
    "execution": {
     "iopub.execute_input": "2023-09-28T14:49:42.457971Z",
     "iopub.status.busy": "2023-09-28T14:49:42.457581Z",
     "iopub.status.idle": "2023-09-28T14:49:42.461575Z",
     "shell.execute_reply": "2023-09-28T14:49:42.460718Z",
     "shell.execute_reply.started": "2023-09-28T14:49:42.457947Z"
    },
    "tags": []
   },
   "outputs": [],
   "source": [
    "#!unzip Intel_Image_Classification_small.zip"
   ]
  },
  {
   "cell_type": "code",
   "execution_count": 3,
   "id": "affebb5d-2210-4ad5-8b86-22f4722e6733",
   "metadata": {
    "execution": {
     "iopub.execute_input": "2023-09-29T06:59:23.702353Z",
     "iopub.status.busy": "2023-09-29T06:59:23.701937Z",
     "iopub.status.idle": "2023-09-29T06:59:23.706303Z",
     "shell.execute_reply": "2023-09-29T06:59:23.705504Z",
     "shell.execute_reply.started": "2023-09-29T06:59:23.702326Z"
    },
    "tags": []
   },
   "outputs": [],
   "source": [
    "train_path = './Intel_Image_Classification_small/seg_train/seg_train/'\n",
    "val_path = './Intel_Image_Classification_small/seg_test/seg_test/'\n",
    "test_path = './Intel_Image_Classification_small/seg_pred/seg_pred/'"
   ]
  },
  {
   "cell_type": "code",
   "execution_count": 4,
   "id": "e290686e-99d9-4bb3-8c76-269d1b466679",
   "metadata": {
    "execution": {
     "iopub.execute_input": "2023-09-29T06:59:27.075673Z",
     "iopub.status.busy": "2023-09-29T06:59:27.075303Z",
     "iopub.status.idle": "2023-09-29T06:59:27.412023Z",
     "shell.execute_reply": "2023-09-29T06:59:27.411305Z",
     "shell.execute_reply.started": "2023-09-29T06:59:27.075631Z"
    },
    "tags": []
   },
   "outputs": [],
   "source": [
    "import os\n",
    "import pandas as pd"
   ]
  },
  {
   "cell_type": "code",
   "execution_count": 5,
   "id": "aa3d3d78-4ba3-4de7-a633-8197aded1996",
   "metadata": {
    "execution": {
     "iopub.execute_input": "2023-09-29T06:59:28.975784Z",
     "iopub.status.busy": "2023-09-29T06:59:28.975259Z",
     "iopub.status.idle": "2023-09-29T06:59:28.979772Z",
     "shell.execute_reply": "2023-09-29T06:59:28.978983Z",
     "shell.execute_reply.started": "2023-09-29T06:59:28.975757Z"
    },
    "tags": []
   },
   "outputs": [],
   "source": [
    "DIM_SIZE = 299\n",
    "class_name = os.listdir(train_path)\n",
    "LAYER_NUM = len(class_name)"
   ]
  },
  {
   "cell_type": "code",
   "execution_count": 6,
   "id": "0de96793-1ac0-43b2-bf35-2133b3db2f2c",
   "metadata": {
    "execution": {
     "iopub.execute_input": "2023-09-29T06:59:31.171881Z",
     "iopub.status.busy": "2023-09-29T06:59:31.171425Z",
     "iopub.status.idle": "2023-09-29T06:59:33.384059Z",
     "shell.execute_reply": "2023-09-29T06:59:33.383371Z",
     "shell.execute_reply.started": "2023-09-29T06:59:31.171845Z"
    },
    "tags": []
   },
   "outputs": [
    {
     "name": "stderr",
     "output_type": "stream",
     "text": [
      "2023-09-29 06:59:31.866324: I tensorflow/core/util/port.cc:111] oneDNN custom operations are on. You may see slightly different numerical results due to floating-point round-off errors from different computation orders. To turn them off, set the environment variable `TF_ENABLE_ONEDNN_OPTS=0`.\n",
      "2023-09-29 06:59:31.911501: E tensorflow/compiler/xla/stream_executor/cuda/cuda_dnn.cc:9342] Unable to register cuDNN factory: Attempting to register factory for plugin cuDNN when one has already been registered\n",
      "2023-09-29 06:59:31.911529: E tensorflow/compiler/xla/stream_executor/cuda/cuda_fft.cc:609] Unable to register cuFFT factory: Attempting to register factory for plugin cuFFT when one has already been registered\n",
      "2023-09-29 06:59:31.911553: E tensorflow/compiler/xla/stream_executor/cuda/cuda_blas.cc:1518] Unable to register cuBLAS factory: Attempting to register factory for plugin cuBLAS when one has already been registered\n",
      "2023-09-29 06:59:31.919541: I tensorflow/core/platform/cpu_feature_guard.cc:182] This TensorFlow binary is optimized to use available CPU instructions in performance-critical operations.\n",
      "To enable the following instructions: AVX2 AVX512F AVX512_VNNI FMA, in other operations, rebuild TensorFlow with the appropriate compiler flags.\n",
      "2023-09-29 06:59:32.741284: W tensorflow/compiler/tf2tensorrt/utils/py_utils.cc:38] TF-TRT Warning: Could not find TensorRT\n"
     ]
    }
   ],
   "source": [
    "import numpy as np\n",
    "import matplotlib.pyplot as plt\n",
    "\n",
    "import tensorflow as tf"
   ]
  },
  {
   "cell_type": "code",
   "execution_count": 7,
   "id": "a6033a14-2550-4fee-a117-e72252064666",
   "metadata": {
    "execution": {
     "iopub.execute_input": "2023-09-29T06:59:33.385640Z",
     "iopub.status.busy": "2023-09-29T06:59:33.385184Z",
     "iopub.status.idle": "2023-09-29T06:59:33.399243Z",
     "shell.execute_reply": "2023-09-29T06:59:33.398676Z",
     "shell.execute_reply.started": "2023-09-29T06:59:33.385617Z"
    },
    "tags": []
   },
   "outputs": [],
   "source": [
    "from tensorflow import keras\n",
    "from tensorflow.keras.preprocessing.image import load_img"
   ]
  },
  {
   "cell_type": "markdown",
   "metadata": {},
   "source": [
    "Unzipping the zip file containing all the images"
   ]
  },
  {
   "cell_type": "code",
   "execution_count": 7,
   "id": "50cf2cdd-b1f1-469e-b9f6-37fd0cfc5c3e",
   "metadata": {
    "execution": {
     "iopub.execute_input": "2023-09-28T16:23:48.702006Z",
     "iopub.status.busy": "2023-09-28T16:23:48.701611Z",
     "iopub.status.idle": "2023-09-28T16:23:48.705424Z",
     "shell.execute_reply": "2023-09-28T16:23:48.704649Z",
     "shell.execute_reply.started": "2023-09-28T16:23:48.701982Z"
    },
    "tags": []
   },
   "outputs": [],
   "source": [
    "#!unzip Intel_Image_Classification.zip"
   ]
  },
  {
   "cell_type": "code",
   "execution_count": 8,
   "id": "7b9ec451-b0bd-497c-968f-5afbddbe9326",
   "metadata": {
    "execution": {
     "iopub.execute_input": "2023-09-29T06:59:35.888184Z",
     "iopub.status.busy": "2023-09-29T06:59:35.887784Z",
     "iopub.status.idle": "2023-09-29T06:59:35.925663Z",
     "shell.execute_reply": "2023-09-29T06:59:35.924972Z",
     "shell.execute_reply.started": "2023-09-29T06:59:35.888162Z"
    },
    "tags": []
   },
   "outputs": [
    {
     "data": {
      "image/png": "[encoded data removed]",
      "text/plain": [
       "<PIL.JpegImagePlugin.JpegImageFile image mode=RGB size=150x150>"
      ]
     },
     "execution_count": 8,
     "metadata": {},
     "output_type": "execute_result"
    }
   ],
   "source": [
    "from tensorflow.keras.preprocessing.image import load_img\n",
    "\n",
    "path = './Intel_Image_Classification_small/seg_train/seg_train/buildings/'\n",
    "name = '9807.jpg'\n",
    "fullname = f'{path}/{name}'\n",
    "load_img(fullname)"
   ]
  },
  {
   "cell_type": "code",
   "execution_count": 9,
   "id": "7ae1c681-a5d7-4c37-bf8a-1712080c30c1",
   "metadata": {
    "execution": {
     "iopub.execute_input": "2023-09-29T06:59:37.846363Z",
     "iopub.status.busy": "2023-09-29T06:59:37.845969Z",
     "iopub.status.idle": "2023-09-29T06:59:37.850878Z",
     "shell.execute_reply": "2023-09-29T06:59:37.850176Z",
     "shell.execute_reply.started": "2023-09-29T06:59:37.846339Z"
    },
    "tags": []
   },
   "outputs": [],
   "source": [
    "img = load_img(fullname, target_size=(299, 299))"
   ]
  },
  {
   "cell_type": "code",
   "execution_count": 10,
   "id": "491835c9-3c7a-417b-bc4b-e935d52a3ace",
   "metadata": {
    "execution": {
     "iopub.execute_input": "2023-09-29T06:59:40.281141Z",
     "iopub.status.busy": "2023-09-29T06:59:40.280759Z",
     "iopub.status.idle": "2023-09-29T06:59:40.305526Z",
     "shell.execute_reply": "2023-09-29T06:59:40.304774Z",
     "shell.execute_reply.started": "2023-09-29T06:59:40.281118Z"
    },
    "tags": []
   },
   "outputs": [
    {
     "data": {
      "image/png": "[encoded data removed]",
      "text/plain": [
       "<PIL.Image.Image image mode=RGB size=299x299>"
      ]
     },
     "execution_count": 10,
     "metadata": {},
     "output_type": "execute_result"
    }
   ],
   "source": [
    "img"
   ]
  },
  {
   "cell_type": "code",
   "execution_count": 11,
   "id": "caca03eb-eb92-42c3-a728-510ccc3459f5",
   "metadata": {
    "execution": {
     "iopub.execute_input": "2023-09-29T06:59:42.061316Z",
     "iopub.status.busy": "2023-09-29T06:59:42.060935Z",
     "iopub.status.idle": "2023-09-29T06:59:42.066556Z",
     "shell.execute_reply": "2023-09-29T06:59:42.065974Z",
     "shell.execute_reply.started": "2023-09-29T06:59:42.061294Z"
    },
    "tags": []
   },
   "outputs": [
    {
     "data": {
      "text/plain": [
       "(299, 299, 3)"
      ]
     },
     "execution_count": 11,
     "metadata": {},
     "output_type": "execute_result"
    }
   ],
   "source": [
    "x = np.array(img)\n",
    "x.shape"
   ]
  },
  {
   "cell_type": "markdown",
   "id": "4518361a-0afa-4a97-a800-e6aedc2b1d66",
   "metadata": {},
   "source": [
    "## Model"
   ]
  },
  {
   "cell_type": "markdown",
   "id": "2dc0daef-0da5-49d5-b3e2-60233d7d10ba",
   "metadata": {},
   "source": [
    "Train and validade the Xception model:\n",
    "\n",
    "    \n",
    "Using imagenet dataset"
   ]
  },
  {
   "cell_type": "code",
   "execution_count": 12,
   "id": "f08bcf0a-6565-40dd-a8e1-88355eae0c53",
   "metadata": {
    "execution": {
     "iopub.execute_input": "2023-09-29T06:59:44.539959Z",
     "iopub.status.busy": "2023-09-29T06:59:44.539224Z",
     "iopub.status.idle": "2023-09-29T06:59:44.544468Z",
     "shell.execute_reply": "2023-09-29T06:59:44.543632Z",
     "shell.execute_reply.started": "2023-09-29T06:59:44.539929Z"
    },
    "tags": []
   },
   "outputs": [],
   "source": [
    "from tensorflow.keras.applications.xception import preprocess_input\n",
    "from tensorflow.keras.applications.xception import decode_predictions\n",
    "\n",
    "from tensorflow.keras.preprocessing.image import ImageDataGenerator"
   ]
  },
  {
   "cell_type": "code",
   "execution_count": 13,
   "id": "31746e5e-3300-4cc5-885f-bb4ce57c99e0",
   "metadata": {
    "execution": {
     "iopub.execute_input": "2023-09-29T06:59:45.768377Z",
     "iopub.status.busy": "2023-09-29T06:59:45.767979Z",
     "iopub.status.idle": "2023-09-29T06:59:46.037781Z",
     "shell.execute_reply": "2023-09-29T06:59:46.037147Z",
     "shell.execute_reply.started": "2023-09-29T06:59:45.768352Z"
    },
    "tags": []
   },
   "outputs": [
    {
     "name": "stdout",
     "output_type": "stream",
     "text": [
      "Found 7024 images belonging to 6 classes.\n"
     ]
    }
   ],
   "source": [
    "train_gen = ImageDataGenerator(preprocessing_function=preprocess_input)\n",
    "\n",
    "train_ds = train_gen.flow_from_directory(\n",
    "    train_path,\n",
    "    target_size=(DIM_SIZE, DIM_SIZE),\n",
    "    batch_size=32\n",
    ")"
   ]
  },
  {
   "cell_type": "code",
   "execution_count": 14,
   "id": "12a61744-6b89-4208-b4fb-da4e2f6b9e48",
   "metadata": {
    "execution": {
     "iopub.execute_input": "2023-09-29T06:59:48.115978Z",
     "iopub.status.busy": "2023-09-29T06:59:48.115562Z",
     "iopub.status.idle": "2023-09-29T06:59:48.176846Z",
     "shell.execute_reply": "2023-09-29T06:59:48.176283Z",
     "shell.execute_reply.started": "2023-09-29T06:59:48.115953Z"
    },
    "tags": []
   },
   "outputs": [
    {
     "name": "stdout",
     "output_type": "stream",
     "text": [
      "Found 1507 images belonging to 6 classes.\n"
     ]
    }
   ],
   "source": [
    "val_gen = ImageDataGenerator(preprocessing_function=preprocess_input)\n",
    "\n",
    "val_ds = val_gen.flow_from_directory(\n",
    "    val_path,\n",
    "    target_size=(DIM_SIZE, DIM_SIZE),\n",
    "    batch_size=32,\n",
    "    shuffle=False\n",
    ")"
   ]
  },
  {
   "cell_type": "markdown",
   "id": "afa0f564-0f04-4e32-afd4-9b6475b8be4e",
   "metadata": {},
   "source": [
    "# Xception"
   ]
  },
  {
   "cell_type": "code",
   "execution_count": 15,
   "id": "7a3f9677-6c07-472b-9cd0-76c9f7694937",
   "metadata": {
    "execution": {
     "iopub.execute_input": "2023-09-29T06:59:50.440773Z",
     "iopub.status.busy": "2023-09-29T06:59:50.440270Z",
     "iopub.status.idle": "2023-09-29T06:59:50.445363Z",
     "shell.execute_reply": "2023-09-29T06:59:50.444560Z",
     "shell.execute_reply.started": "2023-09-29T06:59:50.440732Z"
    },
    "tags": []
   },
   "outputs": [],
   "source": [
    "from tensorflow.keras.applications.xception import Xception"
   ]
  },
  {
   "cell_type": "code",
   "execution_count": 16,
   "id": "32253aa8-bae0-4353-9261-d99d7754fffa",
   "metadata": {
    "execution": {
     "iopub.execute_input": "2023-09-29T06:59:52.505896Z",
     "iopub.status.busy": "2023-09-29T06:59:52.505379Z",
     "iopub.status.idle": "2023-09-29T06:59:53.992175Z",
     "shell.execute_reply": "2023-09-29T06:59:53.991415Z",
     "shell.execute_reply.started": "2023-09-29T06:59:52.505859Z"
    },
    "tags": []
   },
   "outputs": [
    {
     "name": "stderr",
     "output_type": "stream",
     "text": [
      "2023-09-29 06:59:52.570550: I tensorflow/compiler/xla/stream_executor/cuda/cuda_gpu_executor.cc:894] successful NUMA node read from SysFS had negative value (-1), but there must be at least one NUMA node, so returning NUMA node zero. See more at https://github.com/torvalds/linux/blob/v6.0/Documentation/ABI/testing/sysfs-bus-pci#L344-L355\n",
      "2023-09-29 06:59:52.605487: W tensorflow/core/common_runtime/gpu/gpu_device.cc:2211] Cannot dlopen some GPU libraries. Please make sure the missing libraries mentioned above are installed properly if you would like to use GPU. Follow the guide at https://www.tensorflow.org/install/gpu for how to download and setup the required libraries for your platform.\n",
      "Skipping registering GPU devices...\n"
     ]
    }
   ],
   "source": [
    "xception_model = Xception(\n",
    "    weights='imagenet',\n",
    "    include_top=False,\n",
    "    input_shape=(DIM_SIZE, DIM_SIZE, 3)\n",
    ")"
   ]
  },
  {
   "cell_type": "markdown",
   "id": "334621b2-f26d-4408-a13a-cdc7aec56fc0",
   "metadata": {},
   "source": [
    "### Training/Validating"
   ]
  },
  {
   "cell_type": "code",
   "execution_count": 17,
   "id": "b73eeeb3-cb8f-4a17-8cf9-78d96df33de7",
   "metadata": {
    "execution": {
     "iopub.execute_input": "2023-09-29T06:59:55.043120Z",
     "iopub.status.busy": "2023-09-29T06:59:55.042730Z",
     "iopub.status.idle": "2023-09-29T06:59:55.046255Z",
     "shell.execute_reply": "2023-09-29T06:59:55.045651Z",
     "shell.execute_reply.started": "2023-09-29T06:59:55.043094Z"
    },
    "tags": []
   },
   "outputs": [],
   "source": [
    "import numpy as np\n",
    "import scipy"
   ]
  },
  {
   "cell_type": "code",
   "execution_count": 18,
   "id": "fd87932d-d48f-4e91-8681-3c075e0e8971",
   "metadata": {
    "execution": {
     "iopub.execute_input": "2023-09-29T06:59:56.656032Z",
     "iopub.status.busy": "2023-09-29T06:59:56.655339Z",
     "iopub.status.idle": "2023-09-29T06:59:56.659831Z",
     "shell.execute_reply": "2023-09-29T06:59:56.659010Z",
     "shell.execute_reply.started": "2023-09-29T06:59:56.655983Z"
    },
    "tags": []
   },
   "outputs": [],
   "source": [
    "EPOCHS = 5"
   ]
  },
  {
   "cell_type": "code",
   "execution_count": 19,
   "id": "5e1b4b86-eaa0-4f17-b265-ee8b232ab02f",
   "metadata": {
    "execution": {
     "iopub.execute_input": "2023-09-29T06:59:58.706099Z",
     "iopub.status.busy": "2023-09-29T06:59:58.705703Z",
     "iopub.status.idle": "2023-09-29T06:59:58.709471Z",
     "shell.execute_reply": "2023-09-29T06:59:58.708755Z",
     "shell.execute_reply.started": "2023-09-29T06:59:58.706075Z"
    },
    "tags": []
   },
   "outputs": [],
   "source": [
    "model_dict = {'xception_model': xception_model}"
   ]
  },
  {
   "cell_type": "code",
   "execution_count": 20,
   "id": "04950ac9-7016-4fda-ae9d-894d256fffa9",
   "metadata": {
    "execution": {
     "iopub.execute_input": "2023-09-29T07:00:00.281939Z",
     "iopub.status.busy": "2023-09-29T07:00:00.281265Z",
     "iopub.status.idle": "2023-09-29T07:00:00.285598Z",
     "shell.execute_reply": "2023-09-29T07:00:00.284761Z",
     "shell.execute_reply.started": "2023-09-29T07:00:00.281917Z"
    },
    "tags": []
   },
   "outputs": [],
   "source": [
    "checkpoint = keras.callbacks.ModelCheckpoint(\n",
    "    'xception_{epoch:02d}_{val_accuracy:.3f}.h5',\n",
    "    save_best_only=True,\n",
    "    monitor='val_accuracy',\n",
    "    mode='max'\n",
    ")"
   ]
  },
  {
   "cell_type": "code",
   "execution_count": 21,
   "id": "5c248bd7-3035-4859-90d9-044e80489fe4",
   "metadata": {
    "execution": {
     "iopub.execute_input": "2023-09-29T07:00:02.023907Z",
     "iopub.status.busy": "2023-09-29T07:00:02.023219Z",
     "iopub.status.idle": "2023-09-29T07:00:02.029587Z",
     "shell.execute_reply": "2023-09-29T07:00:02.028988Z",
     "shell.execute_reply.started": "2023-09-29T07:00:02.023878Z"
    },
    "tags": []
   },
   "outputs": [],
   "source": [
    "scores = {}\n",
    "\n",
    "def train_val_model(model_dict):\n",
    "\n",
    "    for model_name in model_dict:\n",
    "        \n",
    "        base_model = model_dict[model_name]\n",
    "        \n",
    "        base_model.trainable = False\n",
    "\n",
    "        inputs = keras.Input(shape=(DIM_SIZE, DIM_SIZE, 3))\n",
    "\n",
    "        base = base_model(inputs, training=False)\n",
    "\n",
    "        vectors = keras.layers.GlobalAveragePooling2D()(base)\n",
    "\n",
    "        outputs = keras.layers.Dense(LAYER_NUM)(vectors)\n",
    "\n",
    "        model = keras.Model(inputs, outputs)\n",
    "\n",
    "        learning_rate = 0.01\n",
    "        optimizer = keras.optimizers.Adam(learning_rate=learning_rate)\n",
    "\n",
    "        loss = keras.losses.CategoricalCrossentropy(from_logits=True)\n",
    "\n",
    "        model.compile(optimizer=optimizer, loss=loss, metrics=['accuracy'])\n",
    "\n",
    "        history = model.fit(train_ds, epochs=EPOCHS, validation_data=val_ds, callbacks=[checkpoint])\n",
    "        \n",
    "        scores = history.history\n",
    "        \n",
    "    return scores"
   ]
  },
  {
   "cell_type": "code",
   "execution_count": 23,
   "id": "a1f7b6d7-441b-4fed-a9e2-692a3efa9c35",
   "metadata": {
    "execution": {
     "iopub.execute_input": "2023-09-28T01:16:01.686717Z",
     "iopub.status.busy": "2023-09-28T01:16:01.686509Z",
     "iopub.status.idle": "2023-09-28T02:12:48.880864Z",
     "shell.execute_reply": "2023-09-28T02:12:48.880140Z",
     "shell.execute_reply.started": "2023-09-28T01:16:01.686700Z"
    },
    "tags": []
   },
   "outputs": [
    {
     "name": "stdout",
     "output_type": "stream",
     "text": [
      "Epoch 1/5\n",
      "220/220 [==============================] - ETA: 0s - loss: 0.3252 - accuracy: 0.8793"
     ]
    },
    {
     "name": "stderr",
     "output_type": "stream",
     "text": [
      "/opt/saturncloud/envs/saturn/lib/python3.9/site-packages/keras/src/engine/training.py:3079: UserWarning: You are saving your model as an HDF5 file via `model.save()`. This file format is considered legacy. We recommend using instead the native Keras format, e.g. `model.save('my_model.keras')`.\n",
      "  saving_api.save_model(\n"
     ]
    },
    {
     "name": "stdout",
     "output_type": "stream",
     "text": [
      "220/220 [==============================] - 659s 3s/step - loss: 0.3252 - accuracy: 0.8793 - val_loss: 0.2506 - val_accuracy: 0.9044\n",
      "Epoch 2/5\n",
      "220/220 [==============================] - 656s 3s/step - loss: 0.2038 - accuracy: 0.9238 - val_loss: 0.2405 - val_accuracy: 0.9210\n",
      "Epoch 3/5\n",
      "220/220 [==============================] - 672s 3s/step - loss: 0.1834 - accuracy: 0.9317 - val_loss: 0.2581 - val_accuracy: 0.9111\n",
      "Epoch 4/5\n",
      "220/220 [==============================] - 709s 3s/step - loss: 0.1404 - accuracy: 0.9472 - val_loss: 0.2508 - val_accuracy: 0.9177\n",
      "Epoch 5/5\n",
      "220/220 [==============================] - 711s 3s/step - loss: 0.1381 - accuracy: 0.9479 - val_loss: 0.2579 - val_accuracy: 0.9164\n"
     ]
    }
   ],
   "source": [
    "scores = train_val_model(model_dict)"
   ]
  },
  {
   "cell_type": "code",
   "execution_count": 23,
   "id": "4534fcbb-db8c-42cf-9bc6-3571cedfb667",
   "metadata": {
    "execution": {
     "iopub.execute_input": "2023-09-28T07:23:46.304143Z",
     "iopub.status.busy": "2023-09-28T07:23:46.303719Z",
     "iopub.status.idle": "2023-09-28T07:23:46.309295Z",
     "shell.execute_reply": "2023-09-28T07:23:46.308498Z",
     "shell.execute_reply.started": "2023-09-28T07:23:46.304118Z"
    },
    "tags": []
   },
   "outputs": [
    {
     "data": {
      "text/plain": [
       "dict_items([])"
      ]
     },
     "execution_count": 23,
     "metadata": {},
     "output_type": "execute_result"
    }
   ],
   "source": [
    "scores.items()"
   ]
  },
  {
   "cell_type": "code",
   "execution_count": null,
   "id": "f3b20fa9-321e-43fa-8e4a-19ce29443279",
   "metadata": {
    "execution": {
     "iopub.execute_input": "2023-09-28T07:23:26.650060Z",
     "iopub.status.busy": "2023-09-28T07:23:26.649670Z",
     "iopub.status.idle": "2023-09-28T07:23:27.228435Z",
     "shell.execute_reply": "2023-09-28T07:23:27.226833Z",
     "shell.execute_reply.started": "2023-09-28T07:23:26.650034Z"
    },
    "tags": []
   },
   "outputs": [],
   "source": [
    "for key, value in scores.items():\n",
    "    if (key == 'val_accuracy'):\n",
    "        val_accuracy = value\n",
    "val_accuracy        "
   ]
  },
  {
   "cell_type": "code",
   "execution_count": null,
   "id": "03b76aa0-6545-47fe-8f61-fb3a79903427",
   "metadata": {
    "tags": []
   },
   "outputs": [],
   "source": [
    "scores.items()"
   ]
  },
  {
   "cell_type": "code",
   "execution_count": 26,
   "id": "3e5db5a9-e130-4c4b-8e61-fa4c74a327ab",
   "metadata": {
    "execution": {
     "iopub.execute_input": "2023-09-28T02:12:48.897691Z",
     "iopub.status.busy": "2023-09-28T02:12:48.897224Z",
     "iopub.status.idle": "2023-09-28T02:12:49.076114Z",
     "shell.execute_reply": "2023-09-28T02:12:49.075022Z",
     "shell.execute_reply.started": "2023-09-28T02:12:48.897668Z"
    },
    "tags": []
   },
   "outputs": [
    {
     "data": {
      "text/plain": [
       "<matplotlib.legend.Legend at 0x7fcfe0055c70>"
      ]
     },
     "execution_count": 26,
     "metadata": {},
     "output_type": "execute_result"
    },
    {
     "data": {
      "image/png": "[encoded data removed]",
      "text/plain": [
       "<Figure size 640x480 with 1 Axes>"
      ]
     },
     "metadata": {},
     "output_type": "display_data"
    }
   ],
   "source": [
    "for key, value in scores.items():\n",
    "    if (key == 'val_accuracy'):\n",
    "        plt.plot(val_accuracy, label=('accuracy'))\n",
    "    #plt.plot(hist['val_accuracy'], label=(f'lr={lr}'))\n",
    "\n",
    "plt.xticks(np.arange(EPOCHS))\n",
    "plt.legend()"
   ]
  },
  {
   "cell_type": "markdown",
   "metadata": {},
   "source": [
    "Exception is the best model."
   ]
  },
  {
   "cell_type": "markdown",
   "id": "c86b731f-68be-461f-8fe0-5594d1f989ba",
   "metadata": {},
   "source": [
    "\n",
    "## Parameter Tuning\n",
    "\n",
    "    Learning Rate\n",
    "    Inner Size\n",
    "    Augmentation"
   ]
  },
  {
   "cell_type": "code",
   "execution_count": 22,
   "id": "85e684cc-7bb2-42ac-90d5-ea8e2c61750f",
   "metadata": {
    "execution": {
     "iopub.execute_input": "2023-09-29T07:00:12.853700Z",
     "iopub.status.busy": "2023-09-29T07:00:12.853328Z",
     "iopub.status.idle": "2023-09-29T07:00:12.857400Z",
     "shell.execute_reply": "2023-09-29T07:00:12.856686Z",
     "shell.execute_reply.started": "2023-09-29T07:00:12.853675Z"
    },
    "tags": []
   },
   "outputs": [],
   "source": [
    "checkpoint1 = keras.callbacks.ModelCheckpoint(\n",
    "    'xception2_{epoch:02d}_{val_accuracy:.4f}.h5',\n",
    "    save_best_only=True,\n",
    "    monitor='val_accuracy',\n",
    "    mode='max'\n",
    ")"
   ]
  },
  {
   "cell_type": "code",
   "execution_count": 23,
   "id": "e6b088f9-d072-40d3-981e-b6b9dd40ff96",
   "metadata": {
    "execution": {
     "iopub.execute_input": "2023-09-29T07:00:14.180352Z",
     "iopub.status.busy": "2023-09-29T07:00:14.179956Z",
     "iopub.status.idle": "2023-09-29T07:00:14.185896Z",
     "shell.execute_reply": "2023-09-29T07:00:14.185197Z",
     "shell.execute_reply.started": "2023-09-29T07:00:14.180329Z"
    },
    "tags": []
   },
   "outputs": [],
   "source": [
    "def train_xception(base_model, lr=0.001, inner_size=1000):\n",
    "  \n",
    "    base_model.trainable = False\n",
    "\n",
    "    inputs = keras.Input(shape=(DIM_SIZE, DIM_SIZE, 3))\n",
    "\n",
    "    base = base_model(inputs, training=False)\n",
    "\n",
    "    vectors = keras.layers.GlobalAveragePooling2D()(base)\n",
    "\n",
    "    inner = keras.layers.Dense(inner_size, activation='relu')(vectors)\n",
    "\n",
    "    outputs = keras.layers.Dense(LAYER_NUM)(inner)\n",
    "\n",
    "    model = keras.Model(inputs, outputs)\n",
    "\n",
    "    optimizer = keras.optimizers.Adam(learning_rate=lr)\n",
    "\n",
    "    loss = keras.losses.CategoricalCrossentropy(from_logits=True)\n",
    "\n",
    "    model.compile(optimizer=optimizer, loss=loss, metrics=['accuracy'])\n",
    "\n",
    "    history = model.fit(train_ds, epochs=EPOCHS, validation_data=val_ds, callbacks=[checkpoint1])\n",
    "    \n",
    "    return history.history"
   ]
  },
  {
   "cell_type": "markdown",
   "id": "7e929118-513b-4732-af0d-c97a637e5129",
   "metadata": {},
   "source": [
    "# Learning Rate"
   ]
  },
  {
   "cell_type": "code",
   "execution_count": null,
   "id": "5b40e726-e122-4852-aa83-3a1427016b83",
   "metadata": {
    "execution": {
     "iopub.execute_input": "2023-09-28T07:47:37.659976Z",
     "iopub.status.busy": "2023-09-28T07:47:37.659573Z"
    },
    "tags": []
   },
   "outputs": [
    {
     "name": "stdout",
     "output_type": "stream",
     "text": [
      "Epoch 1/5\n",
      "220/220 [==============================] - ETA: 0s - loss: 0.6829 - accuracy: 0.8289"
     ]
    },
    {
     "name": "stderr",
     "output_type": "stream",
     "text": [
      "/opt/saturncloud/envs/saturn/lib/python3.9/site-packages/keras/src/engine/training.py:3079: UserWarning: You are saving your model as an HDF5 file via `model.save()`. This file format is considered legacy. We recommend using instead the native Keras format, e.g. `model.save('my_model.keras')`.\n",
      "  saving_api.save_model(\n"
     ]
    },
    {
     "name": "stdout",
     "output_type": "stream",
     "text": [
      "220/220 [==============================] - 707s 3s/step - loss: 0.6829 - accuracy: 0.8289 - val_loss: 0.3472 - val_accuracy: 0.8925\n",
      "Epoch 2/5\n",
      "220/220 [==============================] - 698s 3s/step - loss: 0.2946 - accuracy: 0.8985 - val_loss: 0.2697 - val_accuracy: 0.9117\n",
      "Epoch 3/5\n",
      "220/220 [==============================] - 693s 3s/step - loss: 0.2482 - accuracy: 0.9100 - val_loss: 0.2422 - val_accuracy: 0.9151\n",
      "Epoch 4/5\n",
      "220/220 [==============================] - 694s 3s/step - loss: 0.2251 - accuracy: 0.9181 - val_loss: 0.2340 - val_accuracy: 0.9164\n",
      "Epoch 5/5\n",
      "220/220 [==============================] - 695s 3s/step - loss: 0.2098 - accuracy: 0.9234 - val_loss: 0.2236 - val_accuracy: 0.9164\n",
      "Epoch 1/5\n",
      "220/220 [==============================] - 694s 3s/step - loss: 0.3144 - accuracy: 0.8865 - val_loss: 0.2569 - val_accuracy: 0.9044\n",
      "Epoch 2/5\n",
      "170/220 [======================>.......] - ETA: 2:09 - loss: 0.2023 - accuracy: 0.9267"
     ]
    }
   ],
   "source": [
    "scores = {}\n",
    "for lr in [0.0001, 0.001, 0.01, 0.1]:\n",
    "    scores[lr] = train_xception(xception_model, lr)"
   ]
  },
  {
   "cell_type": "code",
   "execution_count": 24,
   "id": "1078207b-8913-401d-8bad-e2e5fd711cba",
   "metadata": {
    "execution": {
     "iopub.execute_input": "2023-09-28T09:25:03.478141Z",
     "iopub.status.busy": "2023-09-28T09:25:03.477771Z",
     "iopub.status.idle": "2023-09-28T12:24:02.135435Z",
     "shell.execute_reply": "2023-09-28T12:24:02.134669Z",
     "shell.execute_reply.started": "2023-09-28T09:25:03.478116Z"
    },
    "tags": []
   },
   "outputs": [
    {
     "name": "stdout",
     "output_type": "stream",
     "text": [
      "Epoch 1/5\n",
      "220/220 [==============================] - ETA: 0s - loss: 0.3174 - accuracy: 0.8857"
     ]
    },
    {
     "name": "stderr",
     "output_type": "stream",
     "text": [
      "/opt/saturncloud/envs/saturn/lib/python3.9/site-packages/keras/src/engine/training.py:3079: UserWarning: You are saving your model as an HDF5 file via `model.save()`. This file format is considered legacy. We recommend using instead the native Keras format, e.g. `model.save('my_model.keras')`.\n",
      "  saving_api.save_model(\n"
     ]
    },
    {
     "name": "stdout",
     "output_type": "stream",
     "text": [
      "220/220 [==============================] - 714s 3s/step - loss: 0.3174 - accuracy: 0.8857 - val_loss: 0.2346 - val_accuracy: 0.9144\n",
      "Epoch 2/5\n",
      "220/220 [==============================] - 712s 3s/step - loss: 0.2015 - accuracy: 0.9263 - val_loss: 0.2426 - val_accuracy: 0.9164\n",
      "Epoch 3/5\n",
      "220/220 [==============================] - 713s 3s/step - loss: 0.1714 - accuracy: 0.9314 - val_loss: 0.2181 - val_accuracy: 0.9257\n",
      "Epoch 4/5\n",
      "220/220 [==============================] - 710s 3s/step - loss: 0.1452 - accuracy: 0.9443 - val_loss: 0.2070 - val_accuracy: 0.9250\n",
      "Epoch 5/5\n",
      "220/220 [==============================] - 715s 3s/step - loss: 0.1262 - accuracy: 0.9510 - val_loss: 0.2292 - val_accuracy: 0.9151\n",
      "Epoch 1/5\n",
      "220/220 [==============================] - 718s 3s/step - loss: 0.3357 - accuracy: 0.8769 - val_loss: 0.2467 - val_accuracy: 0.9011\n",
      "Epoch 2/5\n",
      "220/220 [==============================] - 711s 3s/step - loss: 0.2259 - accuracy: 0.9139 - val_loss: 0.3131 - val_accuracy: 0.8938\n",
      "Epoch 3/5\n",
      "220/220 [==============================] - 710s 3s/step - loss: 0.1875 - accuracy: 0.9312 - val_loss: 0.2563 - val_accuracy: 0.9078\n",
      "Epoch 4/5\n",
      "220/220 [==============================] - 711s 3s/step - loss: 0.1622 - accuracy: 0.9391 - val_loss: 0.2636 - val_accuracy: 0.9078\n",
      "Epoch 5/5\n",
      "220/220 [==============================] - 718s 3s/step - loss: 0.1491 - accuracy: 0.9429 - val_loss: 0.2479 - val_accuracy: 0.9124\n",
      "Epoch 1/5\n",
      "220/220 [==============================] - 719s 3s/step - loss: 1.5762 - accuracy: 0.7649 - val_loss: 0.4068 - val_accuracy: 0.8653\n",
      "Epoch 2/5\n",
      "220/220 [==============================] - 714s 3s/step - loss: 0.5587 - accuracy: 0.7782 - val_loss: 0.5246 - val_accuracy: 0.7664\n",
      "Epoch 3/5\n",
      "220/220 [==============================] - 712s 3s/step - loss: 0.6125 - accuracy: 0.7540 - val_loss: 0.7207 - val_accuracy: 0.7173\n",
      "Epoch 4/5\n",
      "220/220 [==============================] - 719s 3s/step - loss: 0.7235 - accuracy: 0.7214 - val_loss: 1.1161 - val_accuracy: 0.6536\n",
      "Epoch 5/5\n",
      "220/220 [==============================] - 713s 3s/step - loss: 0.7145 - accuracy: 0.7002 - val_loss: 0.8165 - val_accuracy: 0.7492\n"
     ]
    }
   ],
   "source": [
    "scores = {}\n",
    "for lr in [0.001, 0.01, 0.1]:\n",
    "    scores[lr] = train_xception(xception_model, lr)"
   ]
  },
  {
   "cell_type": "code",
   "execution_count": 25,
   "id": "fc510aaf-a4a0-4ec4-93bf-5b2f8396f243",
   "metadata": {
    "execution": {
     "iopub.execute_input": "2023-09-28T12:36:32.668439Z",
     "iopub.status.busy": "2023-09-28T12:36:32.668068Z",
     "iopub.status.idle": "2023-09-28T12:36:32.855514Z",
     "shell.execute_reply": "2023-09-28T12:36:32.854838Z",
     "shell.execute_reply.started": "2023-09-28T12:36:32.668415Z"
    },
    "tags": []
   },
   "outputs": [
    {
     "data": {
      "text/plain": [
       "<matplotlib.legend.Legend at 0x7f8281314550>"
      ]
     },
     "execution_count": 25,
     "metadata": {},
     "output_type": "execute_result"
    },
    {
     "data": {
      "image/png": "[encoded data removed]",
      "text/plain": [
       "<Figure size 640x480 with 1 Axes>"
      ]
     },
     "metadata": {},
     "output_type": "display_data"
    }
   ],
   "source": [
    "for lr, hist in scores.items():\n",
    "    plt.plot(hist['val_accuracy'], label=(lr))\n",
    "\n",
    "plt.xticks(np.arange(EPOCHS))\n",
    "plt.legend()"
   ]
  },
  {
   "cell_type": "markdown",
   "id": "f0f6176a-fd65-46ae-8b6d-b54f2437e885",
   "metadata": {},
   "source": [
    "## Best learning rate for model : 0.001"
   ]
  },
  {
   "cell_type": "markdown",
   "id": "e66b86ff-2a33-4681-a417-e89643d8b2d3",
   "metadata": {},
   "source": [
    "# Inner Size"
   ]
  },
  {
   "cell_type": "code",
   "execution_count": null,
   "id": "0ce61510-6581-49e1-b503-6f8952abf29e",
   "metadata": {
    "execution": {
     "iopub.execute_input": "2023-09-28T12:56:34.022170Z",
     "iopub.status.busy": "2023-09-28T12:56:34.021798Z"
    },
    "tags": []
   },
   "outputs": [
    {
     "name": "stdout",
     "output_type": "stream",
     "text": [
      "Epoch 1/5\n",
      "220/220 [==============================] - 709s 3s/step - loss: 0.6789 - accuracy: 0.7454 - val_loss: 0.3948 - val_accuracy: 0.8839\n",
      "Epoch 2/5\n",
      "220/220 [==============================] - 694s 3s/step - loss: 0.2848 - accuracy: 0.9032 - val_loss: 0.2476 - val_accuracy: 0.9124\n",
      "Epoch 3/5\n",
      "220/220 [==============================] - 692s 3s/step - loss: 0.2200 - accuracy: 0.9213 - val_loss: 0.2304 - val_accuracy: 0.9151\n",
      "Epoch 4/5\n",
      "220/220 [==============================] - 694s 3s/step - loss: 0.1918 - accuracy: 0.9310 - val_loss: 0.2170 - val_accuracy: 0.9204\n",
      "Epoch 5/5\n",
      "220/220 [==============================] - 691s 3s/step - loss: 0.1743 - accuracy: 0.9361 - val_loss: 0.2407 - val_accuracy: 0.9144\n",
      "Epoch 1/5\n",
      "220/220 [==============================] - 693s 3s/step - loss: 0.3254 - accuracy: 0.8764 - val_loss: 0.2226 - val_accuracy: 0.9230\n",
      "Epoch 2/5\n",
      "220/220 [==============================] - 696s 3s/step - loss: 0.2035 - accuracy: 0.9201 - val_loss: 0.2071 - val_accuracy: 0.9224\n",
      "Epoch 3/5\n",
      "220/220 [==============================] - 692s 3s/step - loss: 0.1656 - accuracy: 0.9379 - val_loss: 0.2104 - val_accuracy: 0.9224\n",
      "Epoch 4/5\n",
      "220/220 [==============================] - 691s 3s/step - loss: 0.1456 - accuracy: 0.9455 - val_loss: 0.2766 - val_accuracy: 0.8925\n",
      "Epoch 5/5\n",
      " 29/220 [==>...........................] - ETA: 8:13 - loss: 0.1565 - accuracy: 0.9526"
     ]
    }
   ],
   "source": [
    "# scores = {}\n",
    "\n",
    "# for size in [10, 100, 1000]:\n",
    "#     scores[size] = train_xception(xception_model, inner_size=size)"
   ]
  },
  {
   "cell_type": "code",
   "execution_count": null,
   "id": "0817bc32-5918-4edd-b732-d00a11706ba2",
   "metadata": {
    "execution": {
     "iopub.execute_input": "2023-09-28T14:54:39.694330Z",
     "iopub.status.busy": "2023-09-28T14:54:39.693900Z"
    },
    "tags": []
   },
   "outputs": [
    {
     "name": "stdout",
     "output_type": "stream",
     "text": [
      "Epoch 1/5\n",
      "220/220 [==============================] - ETA: 0s - loss: 0.3206 - accuracy: 0.8865"
     ]
    },
    {
     "name": "stderr",
     "output_type": "stream",
     "text": [
      "/opt/saturncloud/envs/saturn/lib/python3.9/site-packages/keras/src/engine/training.py:3079: UserWarning: You are saving your model as an HDF5 file via `model.save()`. This file format is considered legacy. We recommend using instead the native Keras format, e.g. `model.save('my_model.keras')`.\n",
      "  saving_api.save_model(\n"
     ]
    },
    {
     "name": "stdout",
     "output_type": "stream",
     "text": [
      "220/220 [==============================] - 697s 3s/step - loss: 0.3206 - accuracy: 0.8865 - val_loss: 0.2282 - val_accuracy: 0.9197\n",
      "Epoch 2/5\n",
      "220/220 [==============================] - 695s 3s/step - loss: 0.2066 - accuracy: 0.9179 - val_loss: 0.2265 - val_accuracy: 0.9197\n",
      "Epoch 3/5\n",
      "220/220 [==============================] - 695s 3s/step - loss: 0.1730 - accuracy: 0.9334 - val_loss: 0.2224 - val_accuracy: 0.9184\n",
      "Epoch 4/5\n",
      "220/220 [==============================] - 696s 3s/step - loss: 0.1437 - accuracy: 0.9473 - val_loss: 0.2043 - val_accuracy: 0.9303\n",
      "Epoch 5/5\n",
      "220/220 [==============================] - 696s 3s/step - loss: 0.1273 - accuracy: 0.9527 - val_loss: 0.2148 - val_accuracy: 0.9250\n",
      "Epoch 1/5\n",
      " 80/220 [=========>....................] - ETA: 6:03 - loss: 0.3692 - accuracy: 0.8569"
     ]
    }
   ],
   "source": [
    "# scores = {}\n",
    "\n",
    "# for size in [100, 1000]:\n",
    "#     scores[size] = train_xception(xception_model, inner_size=size)"
   ]
  },
  {
   "cell_type": "code",
   "execution_count": 25,
   "id": "555c9912-a24f-4c44-b6ec-2988466b80c0",
   "metadata": {
    "execution": {
     "iopub.execute_input": "2023-09-28T17:03:54.058727Z",
     "iopub.status.busy": "2023-09-28T17:03:54.058293Z",
     "iopub.status.idle": "2023-09-28T18:01:49.306030Z",
     "shell.execute_reply": "2023-09-28T18:01:49.305382Z",
     "shell.execute_reply.started": "2023-09-28T17:03:54.058700Z"
    },
    "tags": []
   },
   "outputs": [
    {
     "name": "stdout",
     "output_type": "stream",
     "text": [
      "Epoch 1/5\n",
      "220/220 [==============================] - 698s 3s/step - loss: 0.3055 - accuracy: 0.8855 - val_loss: 0.2216 - val_accuracy: 0.9190\n",
      "Epoch 2/5\n",
      "220/220 [==============================] - 695s 3s/step - loss: 0.1949 - accuracy: 0.9278 - val_loss: 0.2210 - val_accuracy: 0.9171\n",
      "Epoch 3/5\n",
      "220/220 [==============================] - 692s 3s/step - loss: 0.1569 - accuracy: 0.9391 - val_loss: 0.2324 - val_accuracy: 0.9224\n",
      "Epoch 4/5\n",
      "220/220 [==============================] - 694s 3s/step - loss: 0.1312 - accuracy: 0.9506 - val_loss: 0.2373 - val_accuracy: 0.9171\n",
      "Epoch 5/5\n",
      "220/220 [==============================] - 695s 3s/step - loss: 0.1170 - accuracy: 0.9550 - val_loss: 0.2353 - val_accuracy: 0.9230\n"
     ]
    }
   ],
   "source": [
    "scores = {}\n",
    "\n",
    "for size in [1000]:\n",
    "    scores[size] = train_xception(xception_model, inner_size=size)"
   ]
  },
  {
   "cell_type": "markdown",
   "id": "45a57dab-9036-4712-a011-50b6818c5316",
   "metadata": {
    "execution": {
     "iopub.execute_input": "2023-09-28T18:04:23.777190Z",
     "iopub.status.busy": "2023-09-28T18:04:23.776810Z",
     "iopub.status.idle": "2023-09-28T18:04:23.952916Z",
     "shell.execute_reply": "2023-09-28T18:04:23.952193Z",
     "shell.execute_reply.started": "2023-09-28T18:04:23.777168Z"
    },
    "tags": []
   },
   "source": [
    "## Best inner_size for model : 1000"
   ]
  },
  {
   "cell_type": "markdown",
   "id": "1836f1a7-71b7-4ac8-ad91-1c2128e56f12",
   "metadata": {},
   "source": [
    "# Augmentation"
   ]
  },
  {
   "cell_type": "code",
   "execution_count": 24,
   "id": "fe69224e-f579-46b6-b343-8d9d606723ed",
   "metadata": {
    "execution": {
     "iopub.execute_input": "2023-09-29T07:00:38.179134Z",
     "iopub.status.busy": "2023-09-29T07:00:38.178761Z",
     "iopub.status.idle": "2023-09-29T07:00:38.431537Z",
     "shell.execute_reply": "2023-09-29T07:00:38.430879Z",
     "shell.execute_reply.started": "2023-09-29T07:00:38.179107Z"
    },
    "tags": []
   },
   "outputs": [
    {
     "name": "stdout",
     "output_type": "stream",
     "text": [
      "Found 7024 images belonging to 6 classes.\n"
     ]
    }
   ],
   "source": [
    "# Create image generator for train data and also augment the images\n",
    "train_gen = ImageDataGenerator(preprocessing_function=preprocess_input,\n",
    "                               rotation_range=30,\n",
    "                               shear_range=10,\n",
    "                               zoom_range=0.1)\n",
    "\n",
    "train_ds = train_gen.flow_from_directory(train_path,\n",
    "                                         target_size=(DIM_SIZE,DIM_SIZE),\n",
    "                                         batch_size=32)"
   ]
  },
  {
   "cell_type": "code",
   "execution_count": 26,
   "id": "7a8e8bfa-8f9c-40cb-a679-7b50b7977b33",
   "metadata": {
    "execution": {
     "iopub.execute_input": "2023-09-29T04:08:52.679239Z",
     "iopub.status.busy": "2023-09-29T04:08:52.678829Z",
     "iopub.status.idle": "2023-09-29T05:04:39.103838Z",
     "shell.execute_reply": "2023-09-29T05:04:39.103113Z",
     "shell.execute_reply.started": "2023-09-29T04:08:52.679211Z"
    }
   },
   "outputs": [
    {
     "name": "stdout",
     "output_type": "stream",
     "text": [
      "Epoch 1/5\n",
      "220/220 [==============================] - ETA: 0s - loss: 0.3794 - accuracy: 0.8548"
     ]
    },
    {
     "name": "stderr",
     "output_type": "stream",
     "text": [
      "/opt/saturncloud/envs/saturn/lib/python3.9/site-packages/keras/src/engine/training.py:3079: UserWarning: You are saving your model as an HDF5 file via `model.save()`. This file format is considered legacy. We recommend using instead the native Keras format, e.g. `model.save('my_model.keras')`.\n",
      "  saving_api.save_model(\n"
     ]
    },
    {
     "name": "stdout",
     "output_type": "stream",
     "text": [
      "220/220 [==============================] - 680s 3s/step - loss: 0.3794 - accuracy: 0.8548 - val_loss: 0.2850 - val_accuracy: 0.8952\n",
      "Epoch 2/5\n",
      "220/220 [==============================] - 671s 3s/step - loss: 0.2791 - accuracy: 0.8976 - val_loss: 0.2653 - val_accuracy: 0.9018\n",
      "Epoch 3/5\n",
      "220/220 [==============================] - 662s 3s/step - loss: 0.2582 - accuracy: 0.9056 - val_loss: 0.2389 - val_accuracy: 0.9137\n",
      "Epoch 4/5\n",
      "220/220 [==============================] - 663s 3s/step - loss: 0.2292 - accuracy: 0.9117 - val_loss: 0.2578 - val_accuracy: 0.9031\n",
      "Epoch 5/5\n",
      "220/220 [==============================] - 668s 3s/step - loss: 0.2203 - accuracy: 0.9161 - val_loss: 0.2485 - val_accuracy: 0.9091\n"
     ]
    }
   ],
   "source": [
    "scores = []\n",
    "scores = train_xception(xception_model)"
   ]
  },
  {
   "cell_type": "code",
   "execution_count": 40,
   "id": "f8420eb7-fd84-4464-9932-58ce16317a42",
   "metadata": {
    "execution": {
     "iopub.execute_input": "2023-09-29T05:15:54.349775Z",
     "iopub.status.busy": "2023-09-29T05:15:54.349377Z",
     "iopub.status.idle": "2023-09-29T05:15:54.354118Z",
     "shell.execute_reply": "2023-09-29T05:15:54.353318Z",
     "shell.execute_reply.started": "2023-09-29T05:15:54.349750Z"
    },
    "tags": []
   },
   "outputs": [
    {
     "name": "stdout",
     "output_type": "stream",
     "text": [
      "[0.8951559662818909, 0.9017916321754456, 0.9137359261512756, 0.9031187891960144, 0.9090909361839294]\n"
     ]
    }
   ],
   "source": [
    "\n",
    "for key, value in scores.items():    \n",
    "    if (key == 'val_accuracy'): \n",
    "        print (value)\n",
    "        \n",
    "# 'val_accuracy': [0.8951559662818909,\n",
    "#   0.9017916321754456,\n",
    "#   0.9137359261512756,\n",
    "#   0.9031187891960144,\n",
    "#   0.9090909361839294]        "
   ]
  },
  {
   "cell_type": "code",
   "execution_count": 41,
   "id": "ea25bfc4-799a-4128-893e-63a385121225",
   "metadata": {
    "execution": {
     "iopub.execute_input": "2023-09-29T05:16:54.088523Z",
     "iopub.status.busy": "2023-09-29T05:16:54.087680Z",
     "iopub.status.idle": "2023-09-29T05:16:54.246074Z",
     "shell.execute_reply": "2023-09-29T05:16:54.245222Z",
     "shell.execute_reply.started": "2023-09-29T05:16:54.088481Z"
    },
    "tags": []
   },
   "outputs": [
    {
     "data": {
      "text/plain": [
       "<matplotlib.legend.Legend at 0x7f65d62812b0>"
      ]
     },
     "execution_count": 41,
     "metadata": {},
     "output_type": "execute_result"
    },
    {
     "data": {
      "image/png": "[encoded data removed]",
      "text/plain": [
       "<Figure size 640x480 with 1 Axes>"
      ]
     },
     "metadata": {},
     "output_type": "display_data"
    }
   ],
   "source": [
    "scores\n",
    "for key, value in scores.items():    \n",
    "    if (key == 'val_accuracy'):\n",
    "        plt.plot(value, label=('accuracy'))\n",
    "\n",
    "plt.xticks(np.arange(EPOCHS))\n",
    "plt.legend()"
   ]
  },
  {
   "cell_type": "markdown",
   "id": "6ca0f7c1-a504-497c-995f-1a1602ff0b82",
   "metadata": {},
   "source": [
    "## Training again for best model and saving (last time)"
   ]
  },
  {
   "cell_type": "code",
   "execution_count": 25,
   "id": "5169ba7d-885a-4457-9b47-acf86f1b2266",
   "metadata": {
    "execution": {
     "iopub.execute_input": "2023-09-29T07:00:50.748380Z",
     "iopub.status.busy": "2023-09-29T07:00:50.747991Z",
     "iopub.status.idle": "2023-09-29T07:00:50.751853Z",
     "shell.execute_reply": "2023-09-29T07:00:50.750977Z",
     "shell.execute_reply.started": "2023-09-29T07:00:50.748357Z"
    },
    "tags": []
   },
   "outputs": [],
   "source": [
    "EPOCHS = 10"
   ]
  },
  {
   "cell_type": "code",
   "execution_count": 26,
   "id": "36068185-94f9-4b72-be0a-6a74a67bd4a2",
   "metadata": {
    "execution": {
     "iopub.execute_input": "2023-09-29T07:00:53.065436Z",
     "iopub.status.busy": "2023-09-29T07:00:53.065016Z",
     "iopub.status.idle": "2023-09-29T07:00:53.073117Z",
     "shell.execute_reply": "2023-09-29T07:00:53.072516Z",
     "shell.execute_reply.started": "2023-09-29T07:00:53.065410Z"
    },
    "tags": []
   },
   "outputs": [],
   "source": [
    "def train_xception2(base_model, lr=0.001, inner_size=1000):\n",
    "  \n",
    "    base_model.trainable = False\n",
    "\n",
    "    inputs = keras.Input(shape=(DIM_SIZE, DIM_SIZE, 3))\n",
    "\n",
    "    base = base_model(inputs, training=False)\n",
    "\n",
    "    vectors = keras.layers.GlobalAveragePooling2D()(base)\n",
    "\n",
    "    inner = keras.layers.Dense(inner_size, activation='relu')(vectors)\n",
    "\n",
    "    outputs = keras.layers.Dense(LAYER_NUM)(inner)\n",
    "\n",
    "    model = keras.Model(inputs, outputs)\n",
    "\n",
    "    optimizer = keras.optimizers.Adam(learning_rate=lr)\n",
    "\n",
    "    loss = keras.losses.CategoricalCrossentropy(from_logits=True)\n",
    "\n",
    "    model.compile(optimizer=optimizer, loss=loss, metrics=['accuracy'])\n",
    "\n",
    "    return model"
   ]
  },
  {
   "cell_type": "code",
   "execution_count": 29,
   "id": "46c939cd-b06e-45dd-a1b4-fcc16c8f0274",
   "metadata": {
    "execution": {
     "iopub.execute_input": "2023-09-29T08:23:08.770236Z",
     "iopub.status.busy": "2023-09-29T08:23:08.769801Z",
     "iopub.status.idle": "2023-09-29T10:13:12.755793Z",
     "shell.execute_reply": "2023-09-29T10:13:12.754945Z",
     "shell.execute_reply.started": "2023-09-29T08:23:08.770211Z"
    },
    "tags": []
   },
   "outputs": [
    {
     "name": "stdout",
     "output_type": "stream",
     "text": [
      "Epoch 1/10\n",
      "220/220 [==============================] - 663s 3s/step - loss: 0.3935 - accuracy: 0.8528 - val_loss: 0.2650 - val_accuracy: 0.9005\n",
      "Epoch 2/10\n",
      "220/220 [==============================] - 657s 3s/step - loss: 0.2799 - accuracy: 0.8949 - val_loss: 0.2866 - val_accuracy: 0.8839\n",
      "Epoch 3/10\n",
      "220/220 [==============================] - 662s 3s/step - loss: 0.2569 - accuracy: 0.9067 - val_loss: 0.2619 - val_accuracy: 0.9058\n",
      "Epoch 4/10\n",
      "220/220 [==============================] - 659s 3s/step - loss: 0.2420 - accuracy: 0.9126 - val_loss: 0.2385 - val_accuracy: 0.9171\n",
      "Epoch 5/10\n",
      "220/220 [==============================] - 663s 3s/step - loss: 0.2249 - accuracy: 0.9166 - val_loss: 0.2325 - val_accuracy: 0.9190\n",
      "Epoch 6/10\n",
      "220/220 [==============================] - 660s 3s/step - loss: 0.2125 - accuracy: 0.9191 - val_loss: 0.2065 - val_accuracy: 0.9237\n",
      "Epoch 7/10\n",
      "220/220 [==============================] - 659s 3s/step - loss: 0.1974 - accuracy: 0.9241 - val_loss: 0.2150 - val_accuracy: 0.9244\n",
      "Epoch 8/10\n",
      "220/220 [==============================] - 658s 3s/step - loss: 0.1851 - accuracy: 0.9308 - val_loss: 0.2025 - val_accuracy: 0.9283\n",
      "Epoch 9/10\n",
      "220/220 [==============================] - 661s 3s/step - loss: 0.1837 - accuracy: 0.9311 - val_loss: 0.2270 - val_accuracy: 0.9224\n",
      "Epoch 10/10\n",
      "220/220 [==============================] - 661s 3s/step - loss: 0.1889 - accuracy: 0.9292 - val_loss: 0.2164 - val_accuracy: 0.9224\n"
     ]
    },
    {
     "ename": "AttributeError",
     "evalue": "'dict' object has no attribute 'fit'",
     "output_type": "error",
     "traceback": [
      "\u001b[0;31m---------------------------------------------------------------------------\u001b[0m",
      "\u001b[0;31mAttributeError\u001b[0m                            Traceback (most recent call last)",
      "Cell \u001b[0;32mIn[29], line 3\u001b[0m\n\u001b[1;32m      1\u001b[0m model \u001b[38;5;241m=\u001b[39m train_xception(xception_model)\n\u001b[0;32m----> 3\u001b[0m history \u001b[38;5;241m=\u001b[39m \u001b[43mmodel\u001b[49m\u001b[38;5;241;43m.\u001b[39;49m\u001b[43mfit\u001b[49m(train_ds, epochs\u001b[38;5;241m=\u001b[39mEPOCHS, validation_data\u001b[38;5;241m=\u001b[39mval_ds, callbacks\u001b[38;5;241m=\u001b[39m[checkpoint3])\n",
      "\u001b[0;31mAttributeError\u001b[0m: 'dict' object has no attribute 'fit'"
     ]
    }
   ],
   "source": [
    "model = train_xception(xception_model)\n",
    "\n",
    "#history = model.fit(train_ds, epochs=EPOCHS, validation_data=val_ds, callbacks=[checkpoint3]) #this was a mistake"
   ]
  },
  {
   "cell_type": "markdown",
   "id": "248bef7c-fe8c-4bf0-a6f7-8fc4a6482cd5",
   "metadata": {},
   "source": [
    "## Saved the best model 'xception2_08_0.9283.h5'"
   ]
  }
 ],
 "metadata": {
  "kernelspec": {
   "display_name": "Python 3 (ipykernel)",
   "language": "python",
   "name": "python3"
  },
  "language_info": {
   "codemirror_mode": {
    "name": "ipython",
    "version": 3
   },
   "file_extension": ".py",
   "mimetype": "text/x-python",
   "name": "python",
   "nbconvert_exporter": "python",
   "pygments_lexer": "ipython3",
   "version": "3.11.4"
  }
 },
 "nbformat": 4,
 "nbformat_minor": 5
}
